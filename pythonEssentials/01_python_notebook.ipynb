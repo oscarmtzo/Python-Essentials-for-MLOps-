{
 "cells": [
  {
   "cell_type": "markdown",
   "metadata": {},
   "source": [
    "#Python Escencial \n",
    "## Cadena o String \n",
    "\n",
    "- las *strings* o cadenas, son aquellos tipos de datos que nos ayudan a desplegar informacion o datos en formato de texto, ya sean simbolos, caracteres especiales, letras y numeros.\n",
    "\n",
    "`\"hola mundo\"`\n",
    "\n",
    "- `print()` es una función que viene  predefinida dentro del  lenguaje de programacion de Python que nos ayuda a mostrar datos en formato de caracteres hacia el usuario cuando utiliza una aplicación de línea de comandos programado con Python\n",
    "- dentro de `print(args)` podemos usar \"args\" como una cajita para almacenar las cadenas, o tambien podemos escribir dentro de los parentesis, la cadena literal, respetando su sintaxis de inicio y finaal con comillas dobles:\n",
    "\n",
    "`print(\"Hola mundo\")`\n",
    "Resultado:\n",
    "`Hola mundo`"
   ]
  },
  {
   "cell_type": "code",
   "execution_count": 1,
   "metadata": {},
   "outputs": [
    {
     "name": "stdout",
     "output_type": "stream",
     "text": [
      "hola mundo\n"
     ]
    }
   ],
   "source": [
    "print (\"hola mundo\")"
   ]
  },
  {
   "cell_type": "markdown",
   "metadata": {},
   "source": []
  }
 ],
 "metadata": {
  "kernelspec": {
   "display_name": "Python 3",
   "language": "python",
   "name": "python3"
  },
  "language_info": {
   "codemirror_mode": {
    "name": "ipython",
    "version": 3
   },
   "file_extension": ".py",
   "mimetype": "text/x-python",
   "name": "python",
   "nbconvert_exporter": "python",
   "pygments_lexer": "ipython3",
   "version": "3.10.13"
  }
 },
 "nbformat": 4,
 "nbformat_minor": 2
}
